{
  "nbformat": 4,
  "nbformat_minor": 0,
  "metadata": {
    "colab": {
      "provenance": [],
      "authorship_tag": "ABX9TyPO63h/ly+vAYIaxjRJePKy",
      "include_colab_link": true
    },
    "kernelspec": {
      "name": "python3",
      "display_name": "Python 3"
    },
    "language_info": {
      "name": "python"
    }
  },
  "cells": [
    {
      "cell_type": "markdown",
      "metadata": {
        "id": "view-in-github",
        "colab_type": "text"
      },
      "source": [
        "<a href=\"https://colab.research.google.com/github/LeoAlvarengaDev/Analise_De_Dados_Com_Python_Pandas-Anima-2023/blob/main/Segundo_Exemplo_Em_Pandas.ipynb\" target=\"_parent\"><img src=\"https://colab.research.google.com/assets/colab-badge.svg\" alt=\"Open In Colab\"/></a>"
      ]
    },
    {
      "cell_type": "markdown",
      "source": [
        "Segundo exemplo de manipulação de dados usando Python Pandas \n",
        "Veremos inserção de dados, remoção de colunas, merge, gráficos\n",
        "\n",
        "Autor: Henrique Poyatos e galera\n",
        "\n",
        "Data: 9 e 10 de fevereiro de 2023"
      ],
      "metadata": {
        "id": "kzuex-t2RN7R"
      }
    },
    {
      "cell_type": "code",
      "execution_count": 2,
      "metadata": {
        "id": "isq2xKTpP9TP"
      },
      "outputs": [],
      "source": [
        "import pandas as pd\n",
        "\n",
        "combustiveis_df = pd.read_excel(\"ca202102_20230207120945.xlsx\")\n"
      ]
    },
    {
      "cell_type": "code",
      "source": [
        "#Inserção simples de dado\n",
        "combustiveis_df['Ativo'] = True\n",
        "\n",
        "display(combustiveis_df.head())"
      ],
      "metadata": {
        "id": "uJPiE193UriL"
      },
      "execution_count": null,
      "outputs": []
    },
    {
      "cell_type": "code",
      "source": [
        "# Criar uma coluna \"Obs\" que tenha nela escrito \"MELHOR CIDADE\" quando a coluna Municipio for igual a SAO PAULO\n",
        "combustiveis_df['Obs'] = [\"MELHOR CIDADE\" if municipio == 'SAO PAULO' else None for municipio in combustiveis_df['Municipio']]\n",
        "display(combustiveis_df.loc[combustiveis_df['Municipio'].isin(['SAO PAULO','INDAIATUBA', 'CAMPINAS', 'SALTO']), ['Municipio', 'Obs']])"
      ],
      "metadata": {
        "id": "2GufPJZycmml"
      },
      "execution_count": null,
      "outputs": []
    },
    {
      "cell_type": "code",
      "source": [
        "# (por Leandro Rodrigues)\n",
        "# como preencher uma coluna 'Valor de Venda - Status' que verifica o seguinte:\n",
        "# se o valor de venda for maior que 6,5 reais, ele fala que tá Caro..caso contrário, está barato\n",
        "import numpy as np\n",
        "\n",
        "combustiveis_df['Status do Valor de Venda'] = np.where(combustiveis_df['Valor de Venda'] > 6.5, 'Caro', 'Barato')\n",
        "display(combustiveis_df[['Revenda', 'Valor de Venda', 'Status do Valor de Venda']])"
      ],
      "metadata": {
        "id": "7IzOzDzGcm7O"
      },
      "execution_count": null,
      "outputs": []
    },
    {
      "cell_type": "code",
      "source": [
        "# Calcular postos de gasolina por habitante temos na amostragem de \n",
        "# combustiveis nov/2021\n",
        "\n",
        "num_habitantes_df = pd.read_csv(\"ibge_num_habitantes_estimado.csv\", sep=\";\")\n",
        "display(num_habitantes_df)"
      ],
      "metadata": {
        "id": "dLnITiakcnDG"
      },
      "execution_count": null,
      "outputs": []
    },
    {
      "cell_type": "code",
      "source": [
        "# Calcular postos de gasolina por habitante temos na amostragem de \n",
        "# combustiveis nov/2021\n",
        "\n",
        "num_habitantes_df = pd.read_csv(\"ibge_num_habitantes_estimado.csv\", sep=\";\")\n",
        "num_habitantes_df.rename(columns={\"Estado\":\"Estado - Sigla\"}, inplace=True)\n",
        "display(num_habitantes_df)"
      ],
      "metadata": {
        "id": "z-rtdwoQcnI4"
      },
      "execution_count": null,
      "outputs": []
    },
    {
      "cell_type": "code",
      "source": [
        "# Faz um MERGE dos dois dataframes\n",
        "colunas = ['Municipio', 'Estado - Sigla']\n",
        "merge_df = combustiveis_df.merge(num_habitantes_df, how=\"inner\", on=colunas)\n",
        "display(merge_df)\n",
        "print(merge_df.info())"
      ],
      "metadata": {
        "id": "BQ0JpzRAcnLl"
      },
      "execution_count": null,
      "outputs": []
    },
    {
      "cell_type": "code",
      "source": [
        "#Destruir coluna completamente vazia (todas as linhas são nulas)\n",
        "merge_df.dropna(axis='columns', inplace=True)\n",
        "print(merge_df.info())"
      ],
      "metadata": {
        "id": "xb7G6ZGycnOJ"
      },
      "execution_count": null,
      "outputs": []
    },
    {
      "cell_type": "code",
      "source": [
        "colunas=['Regiao - Sigla', 'Nome da Rua', 'Numero Rua', \n",
        "         'Bairro', 'Cep', 'Produto', 'Data da Coleta', 'Valor de Venda',\n",
        "         'Unidade de Medida', 'Bandeira', 'Ativo', 'Status do Valor de Venda']\n",
        "merge_df.drop(labels=colunas, axis=1, inplace=True)\n",
        "print(merge_df.info())"
      ],
      "metadata": {
        "id": "z88LOE1-c-2f"
      },
      "execution_count": null,
      "outputs": []
    },
    {
      "cell_type": "code",
      "source": [
        "# Remover a linhas duplicadas\n",
        "merge_df.drop_duplicates(inplace=True)\n",
        "display(merge_df.head(100))"
      ],
      "metadata": {
        "id": "YeuXY26tc-_N"
      },
      "execution_count": null,
      "outputs": []
    },
    {
      "cell_type": "code",
      "source": [
        "#Agrupar e contar quantos postos tem na cidade..\n",
        "postos_por_municipio_df = merge_df.groupby(by=['Estado - Sigla', 'Municipio', 'NumHabitantes2021']).count()\n",
        "postos_por_municipio_df.drop('CNPJ da Revenda', axis=1, inplace=True)\n",
        "postos_por_municipio_df.rename(columns={\"Revenda\": \"Número de Postos\"}, inplace=True)\n",
        "display(postos_por_municipio_df)"
      ],
      "metadata": {
        "id": "iL9_GN2cdQeN"
      },
      "execution_count": null,
      "outputs": []
    },
    {
      "cell_type": "code",
      "source": [
        "#AQUI O FINAL ESTÁ COM PROBLEMA\n",
        "\n",
        "#Agrupar e contar quantos postos tem na cidade..\n",
        "postos_por_municipio_df = merge_df.groupby(by=['Estado - Sigla', 'Municipio', 'NumHabitantes2021']).count()\n",
        "postos_por_municipio_df.reset_index(inplace=True)\n",
        "#display(postos_por_municipio_df.info())\n",
        "postos_por_municipio_df.drop('CNPJ da Revenda', axis=1, inplace=True)\n",
        "postos_por_municipio_df.rename(columns={\"Revenda\": \"NumPostos\"}, inplace=True)\n",
        "\n",
        "postos_por_municipio_df['PostosPorHabitante'] = postos_por_municipio_df['NumHabitantes2021'] / postos_por_municipio_df['NumPostos'] \n",
        "display(postos_por_municipio_df.info())\n",
        "display(postos_por_municipio_df)"
      ],
      "metadata": {
        "id": "-ql6KHMzdQoF"
      },
      "execution_count": null,
      "outputs": []
    },
    {
      "cell_type": "code",
      "source": [
        "import matplotlib.pyplot as plt\n",
        "\n",
        "plt.hist(combustiveis_df['Valor de Venda'])\n",
        "\n",
        "# Colocando um titulo\n",
        "plt.title(\"Preço dos combustibveis de NOV/202\")\n",
        "\n",
        "#colocando os rotulos das colunas x e y\n",
        "\n",
        "plt.xlabel('Preço (em R$)')\n",
        "plt.ylabel('Quantidade de Coletas')\n",
        "\n",
        "# Traca um linha vermelha traçejada com o preço medio\n",
        "\n",
        "plt.axvline(combustiveis_df['Valor de Venda'].mean(), color = 'red', linestyle ='dashed', linewidth = 1)\n",
        "\n",
        "# Para plota o grafico\n",
        "plt.show()"
      ],
      "metadata": {
        "colab": {
          "base_uri": "https://localhost:8080/",
          "height": 295
        },
        "id": "R1vvN9CyfoQP",
        "outputId": "1b422948-5ec5-4fe4-c158-8191c67a86fe"
      },
      "execution_count": 36,
      "outputs": [
        {
          "output_type": "display_data",
          "data": {
            "text/plain": [
              "<Figure size 432x288 with 1 Axes>"
            ],
            "image/png": "[encoded data removed]"
          },
          "metadata": {
            "needs_background": "light"
          }
        }
      ]
    },
    {
      "cell_type": "code",
      "source": [
        "import seaborn as sns\n",
        "\n",
        "#Segundo Grafico\n",
        "c_mean = combustiveis_df['Valor de Venda'].groupby(by=combustiveis_df['Produto']).mean()\n",
        "\n",
        "\n",
        "#Definir a area do grafico\n",
        "plt.figure(figsize=(10,5))\n",
        "c_mean.plot(\n",
        "    kind='barh',\n",
        "    xlabel  = \"Tipo Combustivel\",\n",
        "    ylabel = \"Preço reais/Litros\",\n",
        "    title = 'Media de preços por combustivel',\n",
        "    color = \"orange\",\n",
        "    alpha = 0.3,\n",
        "\n",
        ")\n",
        "\n",
        "#Grid\n",
        "plt.grid()\n",
        "\n",
        "#Remover as linhas superior e lateral direita do gráfico \n",
        "sns.despine()\n",
        "\n",
        "#Exibe\n",
        "plt.show()"
      ],
      "metadata": {
        "id": "DGn5quwkos_Z"
      },
      "execution_count": null,
      "outputs": []
    },
    {
      "cell_type": "code",
      "source": [
        "#Vamor personalizar a planilha Excel...\n",
        "from openpyxl import load_workbook\n",
        "from openpyxl.styles import PatternFill, Font, Color, Alignment\n",
        "#c_mean.reset_index(inplace=True)\n",
        "display(c_mean)\n",
        "\n",
        "excel = \"por_litro.xlsx\"\n",
        "c_mean.to_excel(excel, \"Sumário\")"
      ],
      "metadata": {
        "colab": {
          "base_uri": "https://localhost:8080/",
          "height": 156
        },
        "id": "OoFBDjgvzgKr",
        "outputId": "b54bfd6a-e90c-440e-f8a2-01cb5954b98a"
      },
      "execution_count": 63,
      "outputs": [
        {
          "output_type": "display_data",
          "data": {
            "text/plain": [
              "Produto\n",
              "DIESEL                5.375682\n",
              "DIESEL S10            5.454901\n",
              "ETANOL                5.456115\n",
              "GASOLINA              6.708741\n",
              "GASOLINA ADITIVADA    6.860422\n",
              "GNV                   4.392935\n",
              "Name: Valor de Venda, dtype: float64"
            ]
          },
          "metadata": {}
        }
      ]
    },
    {
      "cell_type": "code",
      "source": [
        "#Vamor personalizar a planilha Excel...\n",
        "from openpyxl import load_workbook\n",
        "from openpyxl.styles import PatternFill, Font, Color, Alignment\n",
        "\n",
        "#Vai abrir o Excel no openpyxl\n",
        "wb = load_workbook(excel) # wb = Workbook\n",
        "\n",
        "#Pegar a planilha certa... usando o Sheet Name (nome da planilha)\n",
        "ws = wb['Sumário'] \n",
        "# Work Sheet -> planilha atual, ativa, de trabalho\n",
        "\n",
        "#Vamos pintar o cabeçalho da tabela de \"cinzinha\"\n",
        "cinzinha = PatternFill(\"solid\", fgColor=\"CCCCCC\")\n",
        "coords = ['A1', 'B1']\n",
        "for coord in coords:\n",
        "  ws[coord].fill = cinzinha\n",
        "\n",
        "#Onde o preço do combustível for maior ou igual a 6,5 reais (6.5) pinta a fonte\n",
        "#de vermelho e deixa negrito...\n",
        "MAX_ROW = ws.max_row\n",
        "num_linha = 2\n",
        "while (num_linha <= MAX_ROW):\n",
        "  coord = 'B'+str(num_linha) #coord=\"B{0}\".format(num_linha)\n",
        "  if ws[coord].value >= 6.5:\n",
        "    ws[coord].font = Font(bold=True, color=\"FF0000\")\n",
        "  num_linha = num_linha + 1\n",
        "#Salvar o Excel\n",
        "wb.save(excel)"
      ],
      "metadata": {
        "id": "IBtplGqG0h56"
      },
      "execution_count": 64,
      "outputs": []
    }
  ]
}