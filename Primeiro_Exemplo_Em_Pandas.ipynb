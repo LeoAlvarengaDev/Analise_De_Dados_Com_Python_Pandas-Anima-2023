{
  "nbformat": 4,
  "nbformat_minor": 0,
  "metadata": {
    "colab": {
      "provenance": [],
      "authorship_tag": "ABX9TyORXV2JtJqj+yKrhBtJCiYG",
      "include_colab_link": true
    },
    "kernelspec": {
      "name": "python3",
      "display_name": "Python 3"
    },
    "language_info": {
      "name": "python"
    }
  },
  "cells": [
    {
      "cell_type": "markdown",
      "metadata": {
        "id": "view-in-github",
        "colab_type": "text"
      },
      "source": [
        "<a href=\"https://colab.research.google.com/github/LeoAlvarengaDev/Analise_De_Dados_Com_Python_Pandas-Anima-2023/blob/main/Primeiro_Exemplo_Em_Pandas.ipynb\" target=\"_parent\"><img src=\"https://colab.research.google.com/assets/colab-badge.svg\" alt=\"Open In Colab\"/></a>"
      ]
    },
    {
      "cell_type": "markdown",
      "source": [
        "Primeiro Exempo de manipulação de dados usando Python\n",
        "\n",
        "Autor: Leonardo Araujo Alvarenga\n",
        "\n",
        "Data: 6 e 7 de Fevereiro de 2022 "
      ],
      "metadata": {
        "id": "QULpY5HTU5if"
      }
    },
    {
      "cell_type": "code",
      "execution_count": 1,
      "metadata": {
        "id": "nrL9QAPuDOD9"
      },
      "outputs": [],
      "source": [
        "# Import Biblioteca Pandas em Python\n",
        "import  pandas  as pd\n",
        "\n",
        "combustiveis_df = pd.read_excel(\"ca202102_20230207120945.xlsx\")"
      ]
    },
    {
      "cell_type": "code",
      "source": [
        "# Exibe as 5 primeiras linhas e as 5 ultimas linhas\n",
        "print(combustiveis_df)"
      ],
      "metadata": {
        "id": "kr4CETAMBUtg"
      },
      "execution_count": null,
      "outputs": []
    },
    {
      "cell_type": "code",
      "source": [
        "# Exibe as 5 primeiras linhas e as 5 ultimas linhas, de forma mais organizada\n",
        "display(combustiveis_df)"
      ],
      "metadata": {
        "id": "DD71QpmJCk-h"
      },
      "execution_count": null,
      "outputs": []
    },
    {
      "cell_type": "code",
      "source": [
        "# Exibe as 5 primeiras Linhas\n",
        "display(combustiveis_df.head())"
      ],
      "metadata": {
        "id": "JawQKFe1FQX2"
      },
      "execution_count": null,
      "outputs": []
    },
    {
      "cell_type": "code",
      "source": [
        "# Comando DataFrame.shape, Mostra a quantidades de linhas e colunas\n",
        "print(combustiveis_df.shape)\n",
        "\n",
        "# Só a quantidade de linha\n",
        "print(combustiveis_df.shape[0])\n",
        "\n",
        "# Só a quantidade de colunas\n",
        "print(combustiveis_df.shape[1])"
      ],
      "metadata": {
        "id": "0R9TOgieGVGC"
      },
      "execution_count": null,
      "outputs": []
    },
    {
      "cell_type": "code",
      "source": [
        "# Comando para mostrar as colunas e o tipo de dados que elas tem...\n",
        "display(combustiveis_df.info())"
      ],
      "metadata": {
        "id": "mLVo4-4iK6Ra"
      },
      "execution_count": null,
      "outputs": []
    },
    {
      "cell_type": "code",
      "source": [
        "# Comando DataFrame.describe(), Mostra os dados estáticos mais básicas  \n",
        "display(combustiveis_df.describe())"
      ],
      "metadata": {
        "id": "sI0QHyP3Jp1W"
      },
      "execution_count": null,
      "outputs": []
    },
    {
      "cell_type": "code",
      "source": [
        "# Filtra por apenas uma coluna\n",
        "display(combustiveis_df['Revenda'])"
      ],
      "metadata": {
        "id": "LSY9Or1lYvQK"
      },
      "execution_count": null,
      "outputs": []
    },
    {
      "cell_type": "code",
      "source": [
        "# Aqui criamos um novo data frame com as colunas que eu quero...\n",
        "rempv_df = (combustiveis_df[['Revenda','Estado - Sigla','Municipio','Produto','Valor de Venda']])\n",
        "display(rempv_df)"
      ],
      "metadata": {
        "id": "-vp8kg1saBiZ"
      },
      "execution_count": null,
      "outputs": []
    },
    {
      "cell_type": "code",
      "source": [
        "# Exibe a quarta linha\n",
        "display(rempv_df.loc[4])"
      ],
      "metadata": {
        "id": "V0rtFpkUbuqx"
      },
      "execution_count": null,
      "outputs": []
    },
    {
      "cell_type": "code",
      "source": [
        "# Exibe um intervalo entre as linhas\n",
        "display(rempv_df.loc[20:90])"
      ],
      "metadata": {
        "id": "E-nZI59gdxpo"
      },
      "execution_count": null,
      "outputs": []
    },
    {
      "cell_type": "code",
      "source": [
        "# Criar um DataFrame gas_df contendo\n",
        "# Apenas as 5 colunas (Revenda, Estado-Sigla, Municipio, Valor de Venda)\n",
        "# Somente com combustível sendo Gasolina e exibir na tela\n",
        "\n",
        "gas_df = rempv_df.loc[rempv_df['Produto'] == 'GASOLINA']\n",
        "display(gas_df)\n"
      ],
      "metadata": {
        "id": "bXfRNXdyezSG"
      },
      "execution_count": null,
      "outputs": []
    },
    {
      "cell_type": "code",
      "source": [
        "display(gas_df[['Revenda','Estado - Sigla','Municipio','Valor de Venda']].max())\n"
      ],
      "metadata": {
        "id": "qEvpxralhyJh"
      },
      "execution_count": null,
      "outputs": []
    },
    {
      "cell_type": "code",
      "source": [
        "dis_df = rempv_df.loc[rempv_df['Produto'] == 'DIESEL']\n",
        "display(dis_df)"
      ],
      "metadata": {
        "id": "YRoZLy-FHQ6Z"
      },
      "execution_count": null,
      "outputs": []
    },
    {
      "cell_type": "code",
      "source": [
        "display(dis_df[['Revenda','Estado - Sigla','Municipio','Valor de Venda']].max())"
      ],
      "metadata": {
        "id": "OyCnqSnuHgtQ"
      },
      "execution_count": null,
      "outputs": []
    },
    {
      "cell_type": "code",
      "source": [
        "#DataFrame.loc[] com multiplas condições para filtragem\n",
        "#Quais são os preços de ETANOL da minha cidade(BELO HORIZONTE)\n",
        "#Ordenado do maior preço de venda para o menor\n",
        "etanol_belohorizonte_df = rempv_df.loc[(rempv_df['Produto'] == 'ETANOL') & (rempv_df['Municipio'] == 'BELO HORIZONTE')]\n",
        "etanol_belohorizonte_df.sort_values(by='Valor de Venda',inplace=True )\n",
        "display(etanol_belohorizonte_df)\n",
        "\n"
      ],
      "metadata": {
        "colab": {
          "base_uri": "https://localhost:8080/",
          "height": 510
        },
        "id": "etK5URGaKBbZ",
        "outputId": "717e156c-080a-4cb9-9b99-dbbe8addce38"
      },
      "execution_count": 96,
      "outputs": [
        {
          "output_type": "stream",
          "name": "stderr",
          "text": [
            "/usr/local/lib/python3.8/dist-packages/pandas/util/_decorators.py:311: SettingWithCopyWarning: \n",
            "A value is trying to be set on a copy of a slice from a DataFrame\n",
            "\n",
            "See the caveats in the documentation: https://pandas.pydata.org/pandas-docs/stable/user_guide/indexing.html#returning-a-view-versus-a-copy\n",
            "  return func(*args, **kwargs)\n"
          ]
        },
        {
          "output_type": "display_data",
          "data": {
            "text/plain": [
              "                                                  Revenda Estado - Sigla  \\\n",
              "144994                                    POSTO GALL LTDA             MG   \n",
              "164146                                 POSTO BOM BOM LTDA             MG   \n",
              "164116  CENTRO COMERCIAL DE COMBUSTIVEIS MINAS PALMARE...             MG   \n",
              "125936                            POSTO ZEPPE JARDIM LTDA             MG   \n",
              "135386                            POSTO ZEPPE JARDIM LTDA             MG   \n",
              "...                                                   ...            ...   \n",
              "50264                            POSTO CACHOEIRINHA LTDA.             MG   \n",
              "128965                                 POSTO BRUNATA LTDA             MG   \n",
              "31274                                    POSTO MARTE LTDA             MG   \n",
              "31237                                  POSTO PHOENIX LTDA             MG   \n",
              "69742                                       POSTO BH LTDA             MG   \n",
              "\n",
              "             Municipio Produto  Valor de Venda  \n",
              "144994  BELO HORIZONTE  ETANOL           5.098  \n",
              "164146  BELO HORIZONTE  ETANOL           5.259  \n",
              "164116  BELO HORIZONTE  ETANOL           5.260  \n",
              "125936  BELO HORIZONTE  ETANOL           5.265  \n",
              "135386  BELO HORIZONTE  ETANOL           5.265  \n",
              "...                ...     ...             ...  \n",
              "50264   BELO HORIZONTE  ETANOL           5.599  \n",
              "128965  BELO HORIZONTE  ETANOL           5.599  \n",
              "31274   BELO HORIZONTE  ETANOL           5.599  \n",
              "31237   BELO HORIZONTE  ETANOL           5.635  \n",
              "69742   BELO HORIZONTE  ETANOL           5.742  \n",
              "\n",
              "[252 rows x 5 columns]"
            ],
            "text/html": [
              "\n",
              "  <div id=\"df-e05c6746-12af-44d0-b083-686379cd3375\">\n",
              "    <div class=\"colab-df-container\">\n",
              "      <div>\n",
              "<style scoped>\n",
              "    .dataframe tbody tr th:only-of-type {\n",
              "        vertical-align: middle;\n",
              "    }\n",
              "\n",
              "    .dataframe tbody tr th {\n",
              "        vertical-align: top;\n",
              "    }\n",
              "\n",
              "    .dataframe thead th {\n",
              "        text-align: right;\n",
              "    }\n",
              "</style>\n",
              "<table border=\"1\" class=\"dataframe\">\n",
              "  <thead>\n",
              "    <tr style=\"text-align: right;\">\n",
              "      <th></th>\n",
              "      <th>Revenda</th>\n",
              "      <th>Estado - Sigla</th>\n",
              "      <th>Municipio</th>\n",
              "      <th>Produto</th>\n",
              "      <th>Valor de Venda</th>\n",
              "    </tr>\n",
              "  </thead>\n",
              "  <tbody>\n",
              "    <tr>\n",
              "      <th>144994</th>\n",
              "      <td>POSTO GALL LTDA</td>\n",
              "      <td>MG</td>\n",
              "      <td>BELO HORIZONTE</td>\n",
              "      <td>ETANOL</td>\n",
              "      <td>5.098</td>\n",
              "    </tr>\n",
              "    <tr>\n",
              "      <th>164146</th>\n",
              "      <td>POSTO BOM BOM LTDA</td>\n",
              "      <td>MG</td>\n",
              "      <td>BELO HORIZONTE</td>\n",
              "      <td>ETANOL</td>\n",
              "      <td>5.259</td>\n",
              "    </tr>\n",
              "    <tr>\n",
              "      <th>164116</th>\n",
              "      <td>CENTRO COMERCIAL DE COMBUSTIVEIS MINAS PALMARE...</td>\n",
              "      <td>MG</td>\n",
              "      <td>BELO HORIZONTE</td>\n",
              "      <td>ETANOL</td>\n",
              "      <td>5.260</td>\n",
              "    </tr>\n",
              "    <tr>\n",
              "      <th>125936</th>\n",
              "      <td>POSTO ZEPPE JARDIM LTDA</td>\n",
              "      <td>MG</td>\n",
              "      <td>BELO HORIZONTE</td>\n",
              "      <td>ETANOL</td>\n",
              "      <td>5.265</td>\n",
              "    </tr>\n",
              "    <tr>\n",
              "      <th>135386</th>\n",
              "      <td>POSTO ZEPPE JARDIM LTDA</td>\n",
              "      <td>MG</td>\n",
              "      <td>BELO HORIZONTE</td>\n",
              "      <td>ETANOL</td>\n",
              "      <td>5.265</td>\n",
              "    </tr>\n",
              "    <tr>\n",
              "      <th>...</th>\n",
              "      <td>...</td>\n",
              "      <td>...</td>\n",
              "      <td>...</td>\n",
              "      <td>...</td>\n",
              "      <td>...</td>\n",
              "    </tr>\n",
              "    <tr>\n",
              "      <th>50264</th>\n",
              "      <td>POSTO CACHOEIRINHA LTDA.</td>\n",
              "      <td>MG</td>\n",
              "      <td>BELO HORIZONTE</td>\n",
              "      <td>ETANOL</td>\n",
              "      <td>5.599</td>\n",
              "    </tr>\n",
              "    <tr>\n",
              "      <th>128965</th>\n",
              "      <td>POSTO BRUNATA LTDA</td>\n",
              "      <td>MG</td>\n",
              "      <td>BELO HORIZONTE</td>\n",
              "      <td>ETANOL</td>\n",
              "      <td>5.599</td>\n",
              "    </tr>\n",
              "    <tr>\n",
              "      <th>31274</th>\n",
              "      <td>POSTO MARTE LTDA</td>\n",
              "      <td>MG</td>\n",
              "      <td>BELO HORIZONTE</td>\n",
              "      <td>ETANOL</td>\n",
              "      <td>5.599</td>\n",
              "    </tr>\n",
              "    <tr>\n",
              "      <th>31237</th>\n",
              "      <td>POSTO PHOENIX LTDA</td>\n",
              "      <td>MG</td>\n",
              "      <td>BELO HORIZONTE</td>\n",
              "      <td>ETANOL</td>\n",
              "      <td>5.635</td>\n",
              "    </tr>\n",
              "    <tr>\n",
              "      <th>69742</th>\n",
              "      <td>POSTO BH LTDA</td>\n",
              "      <td>MG</td>\n",
              "      <td>BELO HORIZONTE</td>\n",
              "      <td>ETANOL</td>\n",
              "      <td>5.742</td>\n",
              "    </tr>\n",
              "  </tbody>\n",
              "</table>\n",
              "<p>252 rows × 5 columns</p>\n",
              "</div>\n",
              "      <button class=\"colab-df-convert\" onclick=\"convertToInteractive('df-e05c6746-12af-44d0-b083-686379cd3375')\"\n",
              "              title=\"Convert this dataframe to an interactive table.\"\n",
              "              style=\"display:none;\">\n",
              "        \n",
              "  <svg xmlns=\"http://www.w3.org/2000/svg\" height=\"24px\"viewBox=\"0 0 24 24\"\n",
              "       width=\"24px\">\n",
              "    <path d=\"M0 0h24v24H0V0z\" fill=\"none\"/>\n",
              "    <path d=\"M18.56 5.44l.94 2.06.94-2.06 2.06-.94-2.06-.94-.94-2.06-.94 2.06-2.06.94zm-11 1L8.5 8.5l.94-2.06 2.06-.94-2.06-.94L8.5 2.5l-.94 2.06-2.06.94zm10 10l.94 2.06.94-2.06 2.06-.94-2.06-.94-.94-2.06-.94 2.06-2.06.94z\"/><path d=\"M17.41 7.96l-1.37-1.37c-.4-.4-.92-.59-1.43-.59-.52 0-1.04.2-1.43.59L10.3 9.45l-7.72 7.72c-.78.78-.78 2.05 0 2.83L4 21.41c.39.39.9.59 1.41.59.51 0 1.02-.2 1.41-.59l7.78-7.78 2.81-2.81c.8-.78.8-2.07 0-2.86zM5.41 20L4 18.59l7.72-7.72 1.47 1.35L5.41 20z\"/>\n",
              "  </svg>\n",
              "      </button>\n",
              "      \n",
              "  <style>\n",
              "    .colab-df-container {\n",
              "      display:flex;\n",
              "      flex-wrap:wrap;\n",
              "      gap: 12px;\n",
              "    }\n",
              "\n",
              "    .colab-df-convert {\n",
              "      background-color: #E8F0FE;\n",
              "      border: none;\n",
              "      border-radius: 50%;\n",
              "      cursor: pointer;\n",
              "      display: none;\n",
              "      fill: #1967D2;\n",
              "      height: 32px;\n",
              "      padding: 0 0 0 0;\n",
              "      width: 32px;\n",
              "    }\n",
              "\n",
              "    .colab-df-convert:hover {\n",
              "      background-color: #E2EBFA;\n",
              "      box-shadow: 0px 1px 2px rgba(60, 64, 67, 0.3), 0px 1px 3px 1px rgba(60, 64, 67, 0.15);\n",
              "      fill: #174EA6;\n",
              "    }\n",
              "\n",
              "    [theme=dark] .colab-df-convert {\n",
              "      background-color: #3B4455;\n",
              "      fill: #D2E3FC;\n",
              "    }\n",
              "\n",
              "    [theme=dark] .colab-df-convert:hover {\n",
              "      background-color: #434B5C;\n",
              "      box-shadow: 0px 1px 3px 1px rgba(0, 0, 0, 0.15);\n",
              "      filter: drop-shadow(0px 1px 2px rgba(0, 0, 0, 0.3));\n",
              "      fill: #FFFFFF;\n",
              "    }\n",
              "  </style>\n",
              "\n",
              "      <script>\n",
              "        const buttonEl =\n",
              "          document.querySelector('#df-e05c6746-12af-44d0-b083-686379cd3375 button.colab-df-convert');\n",
              "        buttonEl.style.display =\n",
              "          google.colab.kernel.accessAllowed ? 'block' : 'none';\n",
              "\n",
              "        async function convertToInteractive(key) {\n",
              "          const element = document.querySelector('#df-e05c6746-12af-44d0-b083-686379cd3375');\n",
              "          const dataTable =\n",
              "            await google.colab.kernel.invokeFunction('convertToInteractive',\n",
              "                                                     [key], {});\n",
              "          if (!dataTable) return;\n",
              "\n",
              "          const docLinkHtml = 'Like what you see? Visit the ' +\n",
              "            '<a target=\"_blank\" href=https://colab.research.google.com/notebooks/data_table.ipynb>data table notebook</a>'\n",
              "            + ' to learn more about interactive tables.';\n",
              "          element.innerHTML = '';\n",
              "          dataTable['output_type'] = 'display_data';\n",
              "          await google.colab.output.renderOutput(dataTable, element);\n",
              "          const docLink = document.createElement('div');\n",
              "          docLink.innerHTML = docLinkHtml;\n",
              "          element.appendChild(docLink);\n",
              "        }\n",
              "      </script>\n",
              "    </div>\n",
              "  </div>\n",
              "  "
            ]
          },
          "metadata": {}
        }
      ]
    },
    {
      "cell_type": "code",
      "source": [
        "#Quais as medias dos preços dos combustiveis gasolina e gasolina aditivada do bairro MOOCA EM SAO PAULO\n",
        "\n",
        "display(combustiveis_df.loc[(combustiveis_df['Municipio']=='SAO PAULO')&\n",
        "                            (combustiveis_df['Bairro']=='MOOCA')&\n",
        "                            ((combustiveis_df['Produto']=='GASOLINA') | (combustiveis_df['Produto']=='GASOLINA ADITIVADA')), \n",
        "                            ['Valor de Venda']].mean())\n"
      ],
      "metadata": {
        "id": "Ewsy2IrrQHpo"
      },
      "execution_count": null,
      "outputs": []
    },
    {
      "cell_type": "code",
      "source": [
        "#Usando o metado .isin\n",
        "display(combustiveis_df.loc[(combustiveis_df['Municipio']=='SAO PAULO')&\n",
        "                            (combustiveis_df['Bairro']=='MOOCA')&\n",
        "                            ((combustiveis_df['Produto'].isin([\"GASOLINA\",\"GASOLINA ADITIVADA\"]))), \n",
        "                            ['Valor de Venda']].mean())\n"
      ],
      "metadata": {
        "id": "7g_Aro2Qd34w"
      },
      "execution_count": null,
      "outputs": []
    },
    {
      "cell_type": "code",
      "source": [
        "#Como mostrar media de valor de venda por combustivel\n",
        "media_por_combustivel_df = rempv_df[['Valor de Venda','Produto']].groupby(by='Produto').mean().round(2)\n",
        "display(media_por_combustivel_df)\n"
      ],
      "metadata": {
        "id": "9v-x18lWfTZn"
      },
      "execution_count": null,
      "outputs": []
    },
    {
      "cell_type": "code",
      "source": [
        "# Quero adicionar uma coluna de valor Booleano nos combustiveis_df  chamada \"Ativo\"\n",
        "# que por padrão, que por padrão vai ser True para todas\n",
        "combustiveis_df['Ativo'] = True\n",
        "display(combustiveis_df.info())\n",
        "display(combustiveis_df.head())"
      ],
      "metadata": {
        "id": "pu7ZCwxGkZYp"
      },
      "execution_count": null,
      "outputs": []
    },
    {
      "cell_type": "code",
      "source": [
        "# E se eu quiser uma coluna nova cahama \"obs\" que preencha quando o municipio for BELO HORIZONTE, MG\n",
        "combustiveis_df['Obs'] = [\"Melhor Cidade\" if municipio == 'Indaiatuba' else '' for municipio in combustiveis_df['Municipio']]"
      ],
      "metadata": {
        "id": "OP6SeL0xmkz6"
      },
      "execution_count": 93,
      "outputs": []
    },
    {
      "cell_type": "code",
      "source": [
        "#Função para exportar para o excel o dataframe \n",
        "etanol_belohorizonte_df.to_excel('etanol_belohorizonte.xlsx', sheet_name='ETANOL EM BELO HORIZONTE', index = False)"
      ],
      "metadata": {
        "id": "K4BwVglbn85y"
      },
      "execution_count": 99,
      "outputs": []
    }
  ]
}